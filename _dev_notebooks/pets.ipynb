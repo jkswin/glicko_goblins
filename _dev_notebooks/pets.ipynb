{
 "cells": [
  {
   "cell_type": "code",
   "execution_count": 3,
   "metadata": {},
   "outputs": [],
   "source": [
    "from dotenv import dotenv_values\n",
    "\n",
    "oai = dotenv_values()[\"OPENAI\"]"
   ]
  },
  {
   "cell_type": "code",
   "execution_count": 4,
   "metadata": {},
   "outputs": [],
   "source": [
    "PET_SPECIES = {\n",
    "    \"dog\":              {\"min_age\": 10, \"max_age\": 13, \"food\": \"rodents\", \"rarity\": 10},\n",
    "    \"cat\":              {\"min_age\": 15, \"max_age\": 20, \"food\": \"fish\", \"rarity\": 10},\n",
    "    \"goldfish\":         {\"min_age\": 5, \"max_age\": 10, \"food\": \"insects\", \"rarity\": 10},\n",
    "    \"parrot\":           {\"min_age\": 15, \"max_age\": 80, \"food\": \"seeds\", \"rarity\": 5},\n",
    "    \"hamster\":          {\"min_age\": 2, \"max_age\": 3, \"food\": \"vegetables\", \"rarity\": 10},\n",
    "    \"guinea pig\":       {\"min_age\": 5, \"max_age\": 8, \"food\": \"vegetables\", \"rarity\": 10},\n",
    "    \"rabbit\":           {\"min_age\": 7, \"max_age\": 12, \"food\": \"vegetables\", \"rarity\": 10},\n",
    "    \"snake\":            {\"min_age\": 10, \"max_age\": 30, \"food\": \"rodents\", \"rarity\": 5},\n",
    "    \"turtle\":           {\"min_age\": 20, \"max_age\": 40, \"food\": \"vegetables\", \"rarity\": 0.2},\n",
    "    \"ferret\":           {\"min_age\": 6, \"max_age\": 10, \"food\": \"fish\", \"rarity\": 1.5},\n",
    "    \"hedgehog\":         {\"min_age\": 4, \"max_age\": 6, \"food\": \"insects\", \"rarity\": 1},\n",
    "    \"lizard\":           {\"min_age\": 5, \"max_age\": 20, \"food\": \"insects\", \"rarity\": 8},\n",
    "    \"hermit crab\":      {\"min_age\": 10, \"max_age\": 30, \"food\": \"fish\", \"rarity\": 3},\n",
    "    \"chinchilla\":       {\"min_age\": 10, \"max_age\": 20, \"food\": \"vegetables\", \"rarity\": 3},\n",
    "    \"tarantula\":        {\"min_age\": 10, \"max_age\": 25, \"food\": \"insects\", \"rarity\": 3},\n",
    "    \"cockatiel\":        {\"min_age\": 15, \"max_age\": 25, \"food\": \"seeds\", \"rarity\": 3},\n",
    "    \"miniature pig\":    {\"min_age\": 15, \"max_age\": 20, \"food\": \"vegetables\", \"rarity\": 2},\n",
    "    \"bearded dragon\":   {\"min_age\": 10, \"max_age\": 15, \"food\": \"insects\", \"rarity\": 3.5},\n",
    "    \"pygmy goat\":       {\"min_age\": 10, \"max_age\": 15, \"food\": \"vegetables\", \"rarity\": 1},\n",
    "    \"capybara\":         {\"min_age\": 8, \"max_age\": 10, \"food\": \"vegetables\", \"rarity\": 0.15},\n",
    "    \"meerkat\":          {\"min_age\": 10, \"max_age\": 14, \"food\": \"rodents\", \"rarity\": 0.15},\n",
    "    \"griffon\":          {\"min_age\": 100, \"max_age\": 200, \"food\": \"fantasy mix\", \"rarity\": 0.1},\n",
    "    \"dragon\":           {\"min_age\": 100, \"max_age\": 300, \"food\": \"fantasy mix\", \"rarity\": 0.1},\n",
    "    \"phoenix\":          {\"min_age\": 1, \"max_age\": 10, \"food\": \"fantasy mix\", \"rarity\": 0.1},\n",
    "    \"pegasus\":          {\"min_age\": 200, \"max_age\": 500, \"food\": \"fantasy mix\", \"rarity\": 0.1},\n",
    "    \"jackalope\":        {\"min_age\": 100, \"max_age\": 150, \"food\": \"fantasy mix\", \"rarity\": 0.1},\n",
    "}\n",
    "\n",
    "PET_COLOURS = { \"black\":20, \n",
    "                \"white\":20,\n",
    "                \"red\":15,\n",
    "                \"blue\":10, \n",
    "                \"green\":10, \n",
    "                \"yellow\":9, \n",
    "                \"orange\":5, \n",
    "                \"purple\":5, \n",
    "                \"pink\":5,\n",
    "                \"golden\":1,\n",
    "            }\n",
    "\n",
    "\n",
    "FOODS = {\"seeds\": 50,\n",
    "         \"vegetables\": 100,\n",
    "         \"insects\": 150,\n",
    "         \"rodents\": 250,\n",
    "         \"fish\": 300, \n",
    "         \"fantasy mix\": 1000,\n",
    "         \"ectoplasm\": 1000,\n",
    "}\n",
    "\n",
    "PET_DESCRIPTIONS = {\n",
    "    'dog': \"Dogs are social animals that have evolved alongside humans for thousands of years. They exhibit a wide range of behaviors, from loyalty and pack bonding to hunting and herding.\",\n",
    "    'cat': \"Cats are solitary hunters with a strong predatory instinct. They are known for their agility and grooming habits, and they often form independent relationships with their human companions.\",\n",
    "    'goldfish': \"Goldfish are freshwater fish that thrive in calm, still waters. They are known for their bright colors and can display schooling behavior in groups.\",\n",
    "    'parrot': \"Parrots are highly intelligent birds with colorful plumage. They are social and often mimic sounds and human speech, making them popular pets.\",\n",
    "    'hamster': \"Hamsters are small rodents that are nocturnal and burrowing animals. They are known for storing food in their cheek pouches and spinning on exercise wheels.\",\n",
    "    'guinea pig': \"Guinea pigs are social rodents native to South America. They are herbivores and often exhibit vocalizations and squeaks, especially when seeking attention or food.\",\n",
    "    'rabbit': \"Rabbits are herbivorous mammals known for their fast breeding and burrowing behavior. They are social animals that communicate through body language.\",\n",
    "    'snake': \"Snakes are reptiles that come in various species, some of which are venomous. They are carnivorous and use a combination of stealth and ambush tactics to catch prey.\",\n",
    "    'turtle': \"Turtles are reptiles known for their protective shells. They are slow-moving, primarily aquatic, and some species can live both in water and on land.\",\n",
    "    'ferret': \"Ferrets are carnivorous mammals known for their curiosity and playful behavior. They are often kept as pets and have a keen sense of smell for hunting.\",\n",
    "    'hedgehog': \"Hedgehogs are nocturnal insectivores covered in spines. They are solitary animals that roll into a ball when threatened and can eat a variety of small prey.\",\n",
    "    'lizard': \"Lizards are reptiles with diverse behaviors. Some are arboreal, while others are ground-dwelling. They exhibit various hunting strategies and basking behaviors.\",\n",
    "    'hermit crab': \"Hermit crabs are crustaceans that use empty shells for protection. They scavenge for food and are known for their social behaviors and shell-swapping habits.\",\n",
    "    'chinchilla': \"Chinchillas are small rodents native to South America. They are known for their soft fur and are crepuscular, being most active during dawn and dusk.\",\n",
    "    'tarantula': \"Tarantulas are large spiders known for their silk-spinning abilities. They are solitary predators that primarily hunt insects and small arthropods.\",\n",
    "    'cockatiel': \"Cockatiels are small parrots known for their crest of feathers on their heads. They are social and can be trained to mimic sounds and perform tricks.\",\n",
    "    'miniature pig': \"Miniature pigs are domesticated pigs bred for smaller size. They are omnivorous and can be kept as pets, often displaying social and intelligent behaviors.\",\n",
    "    'bearded dragon': \"Bearded dragons are reptiles native to Australia. They are diurnal and omnivorous, often displaying territorial and basking behaviors.\",\n",
    "    'pygmy goat': \"Pygmy goats are small domesticated goats known for their social nature. They are herbivores and are often kept for their milk and companionship.\",\n",
    "    'capybara': \"Capybaras are the largest rodents in the world and are native to South America. They are social animals that live in groups and are often found near water.\",\n",
    "    'meerkat': \"Meerkats are small mongooses native to Africa. They live in social groups called mobs and are known for their sentry behaviors, standing on their hind legs to watch for predators.\",\n",
    "    'griffon': \"Griffons are mythical creatures with the body of a lion and the head and wings of an eagle. They are often depicted as majestic and powerful guardians in folklore.\",\n",
    "    'dragon': \"Dragons are legendary creatures with reptilian features, including scales and wings. They are often portrayed as fire-breathing and intelligent beings in mythology.\",\n",
    "    'phoenix': \"Phoenixes are mythical birds that are said to burst into flames and be consumed by fire upon death, only to be reborn from their ashes. They symbolize renewal and immortality.\",\n",
    "    'pegasus': \"Pegasuses are mythical winged horses known for their grace and beauty. They are often depicted as symbols of freedom and inspiration.\",\n",
    "    'jackalope': \"Jackalopes are mythical creatures that resemble rabbits with antlers. They are often portrayed as elusive and mischievous beings in American folklore.\"\n",
    "}\n",
    "\n",
    "PET_PERSONALITIES = [\n",
    "    'kind',\n",
    "    'stubborn',\n",
    "    'charming',\n",
    "    'independent',\n",
    "    'arrogant',\n",
    "    'compassionate',\n",
    "    'selfish',\n",
    "    'confident',\n",
    "    'anxious',\n",
    "    'enthusiastic',\n",
    "    'manipulative',\n",
    "    'honest',\n",
    "    'moody',\n",
    "    'ambitious',\n",
    "    'lazy',\n",
    "    'optimistic',\n",
    "    'pessimistic',\n",
    "    'thoughtful',\n",
    "    'reckless',\n",
    "    'patient',\n",
    "    'impulsive',\n",
    "    'loyal',\n",
    "    'narcissistic',\n",
    "    'friendly',\n",
    "    'introverted',\n",
    "    'outgoing',\n",
    "    'cautious',\n",
    "    'spontaneous',\n",
    "    'critical',\n",
    "    'empathetic'\n",
    "]\n",
    "\n"
   ]
  },
  {
   "cell_type": "code",
   "execution_count": 5,
   "metadata": {},
   "outputs": [],
   "source": [
    "import datetime\n",
    "import numpy as np\n",
    "import random\n",
    "\n",
    "class Pet:\n",
    "\n",
    "    def __init__(self, owner: str or None = None):\n",
    "        \n",
    "        self.owner = owner\n",
    "        self.name = None\n",
    "        self.species = self._get_species()\n",
    "        self.colour = self._get_colour()\n",
    "        self.personality = self._get_personality()\n",
    "        self.birthday = datetime.datetime.today().date()\n",
    "        self.deathday = None\n",
    "\n",
    "        self.hunger = 0\n",
    "        self.last_meal = self.birthday\n",
    "        self.is_alive = True\n",
    "        self.is_ghost = False\n",
    "\n",
    "        self.memory = []\n",
    "        self.conversation_history = None\n",
    "\n",
    "        self._init_odds()\n",
    "\n",
    "    def commit_conversation_to_memory(self):\n",
    "        return\n",
    "\n",
    "    def _death_check(self):\n",
    "\n",
    "        if self.is_ghost:\n",
    "            if self.hunger > 1:\n",
    "                self.is_alive = False\n",
    "\n",
    "        if self.hunger > 72:\n",
    "            if self.coin_toss():\n",
    "                self.is_alive = False\n",
    "\n",
    "        if self.get_age() > PET_SPECIES[self.species][\"max_age\"]:\n",
    "            self.is_alive = False\n",
    "\n",
    "        elif self.get_age() > PET_SPECIES[self.species][\"min_age\"]:\n",
    "            if self.coin_toss():\n",
    "                self.is_alive = False\n",
    "\n",
    "        if not self.is_alive and not self.is_ghost:\n",
    "            self.deathday = datetime.datetime.today().date()\n",
    "            \n",
    "        return self.is_alive\n",
    "    \n",
    "    def _init_odds(self):\n",
    "        self.species_odds = PET_SPECIES[self.species][\"rarity\"]\n",
    "        self.colour_odds = PET_COLOURS[self.colour]\n",
    "        self.odds = (self.species_odds/100) * (self.colour_odds/100)\n",
    "\n",
    "    def _get_species(self):\n",
    "        return random.choices(list(PET_SPECIES.keys()), weights=[p[\"rarity\"] for p in PET_SPECIES.values()])[0]\n",
    "\n",
    "    def _get_colour(self):\n",
    "        return random.choices(list(PET_COLOURS.keys()), weights=list(PET_COLOURS.values()))[0]\n",
    "    \n",
    "    def _get_personality(self):\n",
    "        return random.choice(PET_PERSONALITIES)\n",
    "    \n",
    "    def __str__(self) -> str:\n",
    "        zomb = \"\"\n",
    "        if self.is_ghost:\n",
    "            zomb = \"Ghost \"\n",
    "\n",
    "        return f\"{self.name} the {self.colour.title()} {zomb}{self.species.title()}\"\n",
    "        \n",
    "    def get_age(self):\n",
    "        return (datetime.datetime.today().date() - self.birthday).days\n",
    "    \n",
    "    def give_name(self, name:str):\n",
    "        self.name = name\n",
    "\n",
    "    def feed(self):\n",
    "        if self.is_ghost:\n",
    "            food_source = \"ectoplasm\"\n",
    "        else:\n",
    "            food_source = PET_SPECIES[self.species][\"food\"]\n",
    "            \n",
    "        food_price = FOODS[food_source]\n",
    "        self.last_meal = datetime.datetime.today().date()\n",
    "        return food_source, food_price\n",
    "    \n",
    "    def voodoo(self):\n",
    "        if not self.is_alive:\n",
    "            if self.one_in(3):\n",
    "                self.is_ghost = True\n",
    "                self.is_alive = True\n",
    "\n",
    "        return self.is_alive\n",
    "    \n",
    "    @staticmethod\n",
    "    def one_in(n):\n",
    "        return random.randint(1,n) == 1\n",
    "\n",
    "    @staticmethod\n",
    "    def coin_toss():\n",
    "        return bool(random.randint(0,1))\n",
    "        "
   ]
  },
  {
   "cell_type": "code",
   "execution_count": 23,
   "metadata": {},
   "outputs": [
    {
     "data": {
      "text/plain": [
       "'21-09-23_01-44-28'"
      ]
     },
     "execution_count": 23,
     "metadata": {},
     "output_type": "execute_result"
    }
   ],
   "source": [
    "datetime.datetime.strftime(datetime.datetime.now(), \"%d-%m-%y_%H-%M-%S\")"
   ]
  },
  {
   "cell_type": "code",
   "execution_count": 6,
   "metadata": {},
   "outputs": [
    {
     "name": "stdout",
     "output_type": "stream",
     "text": [
      "73\n",
      "Wilson the White Ghost Goldfish\n",
      "0\n",
      "('ectoplasm', 1000)\n",
      "2023-09-20\n",
      "2.0000000000000004 %\n",
      "Wilson the White Ghost Goldfish\n"
     ]
    }
   ],
   "source": [
    "my_pet = Pet(\"Jake\")\n",
    "my_pet.give_name(\"Wilson\")\n",
    "\n",
    "for i in range(1000):\n",
    "    my_pet.hunger += 1\n",
    "    if not my_pet._death_check():\n",
    "        print(my_pet.hunger)\n",
    "        while not my_pet.is_ghost:\n",
    "            my_pet.voodoo()\n",
    "        break\n",
    "\n",
    "print(my_pet)\n",
    "print(my_pet.get_age())\n",
    "print(my_pet.feed())\n",
    "print(my_pet.deathday)\n",
    "print(my_pet.odds*100, \"%\")\n",
    "print(my_pet)"
   ]
  },
  {
   "cell_type": "code",
   "execution_count": 7,
   "metadata": {},
   "outputs": [
    {
     "name": "stderr",
     "output_type": "stream",
     "text": [
      "100%|██████████| 1000000/1000000 [00:29<00:00, 34337.98it/s]\n"
     ]
    },
    {
     "data": {
      "text/plain": [
       "<Axes: ylabel='species'>"
      ]
     },
     "execution_count": 7,
     "metadata": {},
     "output_type": "execute_result"
    },
    {
     "data": {
      "image/png": "[encoded data removed]",
      "text/plain": [
       "<Figure size 640x480 with 1 Axes>"
      ]
     },
     "metadata": {},
     "output_type": "display_data"
    }
   ],
   "source": [
    "import pandas as pd\n",
    "from collections import Counter\n",
    "from tqdm import tqdm\n",
    "\n",
    "stuff = []\n",
    "for i in tqdm(range(1_000_000)):\n",
    "    pet = Pet()\n",
    "    stuff.append(f\"{pet.colour} {pet.species}\")\n",
    "\n",
    "pd.DataFrame(Counter(stuff).most_common(30), columns=[\"species\", \"count\"]).plot(kind=\"barh\", x=\"species\")"
   ]
  },
  {
   "cell_type": "code",
   "execution_count": 16,
   "metadata": {},
   "outputs": [],
   "source": [
    "class Gacha:\n",
    "    def standard_draw(stars:int=10):\n",
    "        return sorted([Pet() for i in range(stars)], key=lambda x: x.odds)\n",
    "    \n",
    "    def colour_draw(stars:int=10):\n",
    "        return sorted([Pet() for i in range(stars)], key=lambda x: x.colour_odds)\n",
    "    \n",
    "    def species_draw(stars:int=10):\n",
    "        return sorted([Pet() for i in range(stars)], key=lambda x: x.species_odds)\n",
    "\n",
    "\n",
    "draws = [[Gacha.species_draw(stars)[0].species_odds for i in range(100000)] for stars in range(1,6)]"
   ]
  },
  {
   "cell_type": "code",
   "execution_count": 9,
   "metadata": {},
   "outputs": [
    {
     "data": {
      "text/plain": [
       "Text(0.5, 1.0, 'Expected Loot from Each Gacha Tier')"
      ]
     },
     "execution_count": 9,
     "metadata": {},
     "output_type": "execute_result"
    },
    {
     "data": {
      "image/png": "[encoded data removed]",
      "text/plain": [
       "<Figure size 640x480 with 1 Axes>"
      ]
     },
     "metadata": {},
     "output_type": "display_data"
    }
   ],
   "source": [
    "import matplotlib.pyplot as plt\n",
    "import seaborn as sns\n",
    "sns.boxplot(draws)\n",
    "plt.ylabel(\"Rarity\")\n",
    "plt.xlabel(\"Gacha Stars\")\n",
    "plt.title(\"Expected Loot from Each Gacha Tier\")"
   ]
  },
  {
   "cell_type": "code",
   "execution_count": 10,
   "metadata": {},
   "outputs": [],
   "source": [
    "# ENTER PETS IN PET SHOWS TO EARN MONEY????"
   ]
  },
  {
   "cell_type": "code",
   "execution_count": 14,
   "metadata": {},
   "outputs": [
    {
     "data": {
      "text/plain": [
       "[300, 500, 700, 900, 1100]"
      ]
     },
     "execution_count": 14,
     "metadata": {},
     "output_type": "execute_result"
    }
   ],
   "source": [
    "prices = [(stars*300) - ((stars-1)*100) for stars in range(1,6)]\n",
    "prices"
   ]
  },
  {
   "cell_type": "code",
   "execution_count": 12,
   "metadata": {},
   "outputs": [
    {
     "name": "stdout",
     "output_type": "stream",
     "text": [
      "300.0\n",
      "250.0\n",
      "233.33333333333334\n",
      "225.0\n",
      "220.0\n",
      "216.66666666666666\n",
      "214.28571428571428\n",
      "212.5\n",
      "211.11111111111111\n",
      "210.0\n"
     ]
    },
    {
     "data": {
      "text/plain": [
       "[None, None, None, None, None, None, None, None, None, None]"
      ]
     },
     "execution_count": 12,
     "metadata": {},
     "output_type": "execute_result"
    }
   ],
   "source": [
    "[print(p/stars) for stars, p in enumerate(prices, start=1)]"
   ]
  },
  {
   "cell_type": "code",
   "execution_count": 13,
   "metadata": {},
   "outputs": [],
   "source": [
    "# TODO: Guard rails and usage limit e.g. \"Wilson is too tired to talk right now. Try again later.\"\n",
    "MEMORY_PROMPT = \"\"\" \n",
    "Given all converations that an anthropomorphic pet has had recently, summarise the 3 most memorable points.\n",
    "\n",
    "Return them as a python list.\n",
    "\n",
    "CONVERSATIONS:\n",
    "    1)\n",
    "    owner: Hey Wilson, are you hungry?\n",
    "    wilson: I sure am! Squawk. Could I have some food please?\n",
    "    owner: No sorry! I spent all of our gold on scratch cards...\n",
    "    wilson: Squawk...\n",
    "    owner: I'll get you food tomorrow okay?\n",
    "    wilson: Okay!\n",
    "\n",
    "    2)\n",
    "    owner: Happy Birthday wilson!\n",
    "    wilson: Squawk thank you!\n",
    "    owner: I didn't get you a present... sorry.\n",
    "    wilson: Squawk don't worry! I'm not really into gifts!\n",
    "\"\"\".strip()\n",
    "\n"
   ]
  },
  {
   "cell_type": "code",
   "execution_count": null,
   "metadata": {},
   "outputs": [],
   "source": []
  },
  {
   "cell_type": "code",
   "execution_count": null,
   "metadata": {},
   "outputs": [],
   "source": []
  }
 ],
 "metadata": {
  "kernelspec": {
   "display_name": ".venv",
   "language": "python",
   "name": "python3"
  },
  "language_info": {
   "codemirror_mode": {
    "name": "ipython",
    "version": 3
   },
   "file_extension": ".py",
   "mimetype": "text/x-python",
   "name": "python",
   "nbconvert_exporter": "python",
   "pygments_lexer": "ipython3",
   "version": "3.10.11"
  },
  "orig_nbformat": 4
 },
 "nbformat": 4,
 "nbformat_minor": 2
}
